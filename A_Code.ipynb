{
  "nbformat": 4,
  "nbformat_minor": 0,
  "metadata": {
    "colab": {
      "provenance": [],
      "authorship_tag": "ABX9TyNdUw0BriPw37XB+E1vB06F",
      "include_colab_link": true
    },
    "kernelspec": {
      "name": "python3",
      "display_name": "Python 3"
    },
    "language_info": {
      "name": "python"
    }
  },
  "cells": [
    {
      "cell_type": "markdown",
      "metadata": {
        "id": "view-in-github",
        "colab_type": "text"
      },
      "source": [
        "<a href=\"https://colab.research.google.com/github/Athaa25/Mata-Kuliah-AI/blob/main/A_Code.ipynb\" target=\"_parent\"><img src=\"https://colab.research.google.com/assets/colab-badge.svg\" alt=\"Open In Colab\"/></a>"
      ]
    },
    {
      "cell_type": "code",
      "source": [
        "from collections import deque\n",
        "\n",
        "def gbfs(graph, start, goal, heuristic):\n",
        "    frontier = deque([start])  # Use deque instead of list\n",
        "    visited = set()  # Keeps track of visited nodes\n",
        "    came_from = {}  # Remembers the previous node for path reconstruction\n",
        "\n",
        "    while frontier:\n",
        "        # Select the node with the lowest heuristic value\n",
        "        current = frontier.popleft()\n",
        "\n",
        "        if current == goal:\n",
        "            # Goal reached, reconstruct the path\n",
        "            return reconstruct_path(came_from, start, current)\n",
        "\n",
        "        # Explore unvisited neighbors\n",
        "        for neighbor in graph[current]:\n",
        "            if neighbor not in visited:\n",
        "                came_from[neighbor] = current\n",
        "                visited.add(neighbor)  # Mark the neighbor as visited\n",
        "                frontier.append(neighbor)\n",
        "\n",
        "        # Sort the frontier based on heuristic (lower value first)\n",
        "        frontier = deque(sorted(frontier, key=lambda node: heuristic(node, goal)))\n",
        "\n",
        "    # Goal not found\n",
        "    return None\n",
        "\n",
        "def reconstruct_path(came_from, start, current):\n",
        "    path = [current]\n",
        "    while current != start:\n",
        "        current = came_from[current]\n",
        "        path.append(current)\n",
        "\n",
        "    path.reverse()  # Reverse the list to get the path from start to goal\n",
        "    return path\n",
        "\n",
        "def heuristic(node, goal):\n",
        "    distance_map = {\n",
        "        'Kupang': 2000,\n",
        "        'Malang': 1800,\n",
        "        'Surabaya': 1700,\n",
        "        'Makassar': 500,\n",
        "        'Toraja': 0,\n",
        "        'Soe': 1500,\n",
        "        'Kefa': 1600,\n",
        "        'Atambua': 1700,\n",
        "        'Nabire': 2300,\n",
        "        'Ambon': 300\n",
        "    }\n",
        "\n",
        "    # Make sure node and goal are in distance_map\n",
        "    if node in distance_map and goal in distance_map:\n",
        "        # Return the estimated distance value from distance_map as heuristic\n",
        "        return distance_map[node]\n",
        "    else:\n",
        "        # If node or goal not in distance_map, return default value\n",
        "        return float('inf')\n",
        "\n",
        "def try_gbfs(graph, start, goal, heuristic):\n",
        "    try:\n",
        "        path = gbfs(graph, start, goal, heuristic)\n",
        "        return path\n",
        "    except KeyError:\n",
        "        print(f\"Error: Unreachable goal '{goal}' from '{start}'.\")\n",
        "        return None\n",
        "\n",
        "if __name__ == \"__main__\":\n",
        "    graph = {\n",
        "        'Kupang': ['Makassar', 'Malang', 'Surabaya',  'Soe'],\n",
        "        'Malang': ['Kupang', 'Surabaya'],\n",
        "        'Surabaya': ['Kupang', 'Malang', 'Makassar'],\n",
        "        'Makassar': ['Kupang', 'Surabaya', 'Toraja'],\n",
        "        'Toraja': ['Makassar', 'Ambon'],\n",
        "        'Soe': ['Kupang', 'Kefa'],\n",
        "        'Kefa': ['Soe', 'Atambua'],\n",
        "        'Atambua': ['Kefa', 'Nabire'],\n",
        "        'Nabire': ['Atambua', 'Ambon'],\n",
        "        'Ambon': ['Nabire', 'Toraja']\n",
        "    }\n",
        "\n",
        "    start = 'Kupang'\n",
        "    goal = 'Toraja'\n",
        "\n",
        "    path = try_gbfs(graph, start, goal, heuristic)\n",
        "    if path:\n",
        "        print(\"Path found:\", path)\n",
        "    else:\n",
        "        print(\"Path Not Found\")\n"
      ],
      "metadata": {
        "colab": {
          "base_uri": "https://localhost:8080/"
        },
        "id": "pSaNl3pzUTrB",
        "outputId": "89a9febb-0a5e-4c9f-a0e2-46fa5cf96c6e"
      },
      "execution_count": null,
      "outputs": [
        {
          "output_type": "stream",
          "name": "stdout",
          "text": [
            "Path found: ['Kupang', 'Makassar', 'Toraja']\n"
          ]
        }
      ]
    }
  ]
}